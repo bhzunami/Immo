{
 "cells": [
  {
   "cell_type": "code",
   "execution_count": 12,
   "metadata": {},
   "outputs": [],
   "source": [
    "import os\n",
    "import pdb\n",
    "import logging\n",
    "import json\n",
    "from sklearn.externals import joblib\n",
    "\n",
    "\n",
    "from pipeline import Pipeline\n",
    "import logging\n",
    "import json\n",
    "import numpy as np\n",
    "import pandas as pd\n",
    "import matplotlib.pyplot as plt\n",
    "import ast\n",
    "# Scikit\n",
    "from sklearn.ensemble import ExtraTreesRegressor, IsolationForest\n",
    "from sklearn.model_selection import train_test_split, KFold\n",
    "from sklearn.externals import joblib\n",
    "from sklearn.neighbors import KNeighborsRegressor\n",
    "from sklearn.tree import DecisionTreeRegressor\n",
    "from sklearn.ensemble import AdaBoostRegressor\n",
    "\n",
    "from a_detection import AnomalyDetection\n",
    "from helper import generate_matrix, ape, mape, mdape, gen_subplots, plot, train_statistics\n",
    "\n",
    "RNG = np.random.RandomState(42)\n",
    "from pipeline import Pipeline\n",
    "from train_pipeline import TrainPipeline\n",
    "\n",
    "logging.basicConfig(level=logging.INFO, format='%(asctime)s: %(levelname)s - %(message)s', filename='analysis.log')\n"
   ]
  },
  {
   "cell_type": "code",
   "execution_count": 2,
   "metadata": {},
   "outputs": [],
   "source": [
    "\n",
    "class MyPipeline(Pipeline):\n",
    "    def __init__(self):\n",
    "        DIRECTORY = os.path.dirname(os.path.abspath(\"./scikit/\"))\n",
    "        settings = json.load(open('{}/settings.json'.format(DIRECTORY)))\n",
    "        super().__init__(\"price_brutto\", settings, DIRECTORY)\n",
    "\n",
    "p = MyPipeline()"
   ]
  },
  {
   "cell_type": "code",
   "execution_count": 3,
   "metadata": {},
   "outputs": [],
   "source": [
    "model = joblib.load('{}/extraTree.pkl'.format(p.model_folder))\n",
    "ads = p.load_df(\"ads_transformed.pkl\")(None)\n",
    "ads['price_brutto'] = np.log(ads['price_brutto'])\n"
   ]
  },
  {
   "cell_type": "code",
   "execution_count": 4,
   "metadata": {
    "collapsed": true
   },
   "outputs": [],
   "source": [
    "X, y = generate_matrix(ads, 'price_brutto')\n",
    "#y = np.exp(y)\n",
    "X_train, X_test, y_train, y_test = train_test_split(X, y, test_size=0.2, random_state=RNG)"
   ]
  },
  {
   "cell_type": "code",
   "execution_count": 9,
   "metadata": {},
   "outputs": [],
   "source": [
    "y_pred = model.predict(X_test)"
   ]
  },
  {
   "cell_type": "code",
   "execution_count": 14,
   "metadata": {},
   "outputs": [],
   "source": [
    "train_statistics(np.exp(y_test), np.exp(y_pred), title=\"ExtraTree_train_100\")\n",
    "train_statistics(y_test, y_pred, title=\"ExtraTree_train_100\")"
   ]
  },
  {
   "cell_type": "code",
   "execution_count": null,
   "metadata": {},
   "outputs": [],
   "source": []
  },
  {
   "cell_type": "code",
   "execution_count": null,
   "metadata": {
    "collapsed": true
   },
   "outputs": [],
   "source": []
  }
 ],
 "metadata": {
  "kernelspec": {
   "display_name": "Python 3",
   "language": "python",
   "name": "python3"
  },
  "language_info": {
   "codemirror_mode": {
    "name": "ipython",
    "version": 3
   },
   "file_extension": ".py",
   "mimetype": "text/x-python",
   "name": "python",
   "nbconvert_exporter": "python",
   "pygments_lexer": "ipython3",
   "version": "3.6.2"
  }
 },
 "nbformat": 4,
 "nbformat_minor": 2
}
